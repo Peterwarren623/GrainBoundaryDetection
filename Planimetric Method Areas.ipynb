{
 "cells": [
  {
   "cell_type": "code",
   "execution_count": 65,
   "id": "textile-summit",
   "metadata": {},
   "outputs": [],
   "source": [
    "import cv2\n",
    "import numpy as np\n",
    "from matplotlib import pyplot as plt"
   ]
  },
  {
   "cell_type": "code",
   "execution_count": 66,
   "id": "breeding-recipe",
   "metadata": {},
   "outputs": [],
   "source": [
    "#test it out with one file\n",
    "#test the find contours and area measurements and make sure they work"
   ]
  },
  {
   "cell_type": "code",
   "execution_count": 67,
   "id": "daily-elder",
   "metadata": {},
   "outputs": [],
   "source": [
    "#put the file path here\n",
    "\n",
    "image = cv2.imread('D:/GS/FilteredGradV2/FGRAD1.jpg', 0)"
   ]
  },
  {
   "cell_type": "code",
   "execution_count": 68,
   "id": "important-software",
   "metadata": {},
   "outputs": [],
   "source": [
    "ret, thresh = cv2.threshold(image, 127, 255, cv2.THRESH_BINARY)"
   ]
  },
  {
   "cell_type": "code",
   "execution_count": 69,
   "id": "sensitive-documentary",
   "metadata": {},
   "outputs": [],
   "source": [
    "# Find the contours of the objects\n",
    "contours, hierarchy = cv2.findContours(thresh, cv2.RETR_EXTERNAL, cv2.CHAIN_APPROX_SIMPLE)"
   ]
  },
  {
   "cell_type": "code",
   "execution_count": 70,
   "id": "married-disclaimer",
   "metadata": {},
   "outputs": [],
   "source": [
    "# Initialize a NumPy array to store the areas of the contours\n",
    "areas = np.zeros(len(contours))\n",
    "\n",
    "# Iterate over the contours\n",
    "for i, contour in enumerate(contours):\n",
    "  # Calculate the area of the contour\n",
    "  area = cv2.contourArea(contour)\n",
    "  \n",
    "  # Store the area in the array\n",
    "  areas[i] = area"
   ]
  },
  {
   "cell_type": "code",
   "execution_count": 6,
   "id": "solved-cincinnati",
   "metadata": {},
   "outputs": [
    {
     "data": {
      "text/plain": [
       "1008.2721979621543"
      ]
     },
     "execution_count": 6,
     "metadata": {},
     "output_type": "execute_result"
    }
   ],
   "source": [
    "np.mean(areas)"
   ]
  },
  {
   "cell_type": "code",
   "execution_count": 7,
   "id": "proved-giant",
   "metadata": {},
   "outputs": [
    {
     "data": {
      "text/plain": [
       "13009.0"
      ]
     },
     "execution_count": 7,
     "metadata": {},
     "output_type": "execute_result"
    }
   ],
   "source": [
    "np.max(areas)"
   ]
  },
  {
   "cell_type": "code",
   "execution_count": 71,
   "id": "living-insertion",
   "metadata": {},
   "outputs": [],
   "source": [
    "# for loop for the whole file set\n",
    "# areas will be a list with all the areas\n",
    "n = 40\n",
    "areas = []\n",
    "num_grains = 0"
   ]
  },
  {
   "cell_type": "code",
   "execution_count": 72,
   "id": "severe-canvas",
   "metadata": {},
   "outputs": [],
   "source": [
    "#This loop reads all the images and then stores the area of each grain for the image in a list\n",
    "\n",
    "\n",
    "for t in range(n):\n",
    "\n",
    "    image = cv2.imread('D:/GS/FilteredGradV2/FGRAD' + str(t+1) + '.jpg', 0)\n",
    "\n",
    "    ret, thresh = cv2.threshold(image, 127, 255, cv2.THRESH_BINARY)\n",
    "\n",
    "    contours, hierarchy = cv2.findContours(thresh, cv2.RETR_EXTERNAL, cv2.CHAIN_APPROX_SIMPLE)\n",
    "\n",
    "    \n",
    "    # Iterate over the contours\n",
    "    for i, contour in enumerate(contours):\n",
    "        area = cv2.contourArea(contour)\n",
    "        areas.append(area)\n",
    "        \n",
    "    num_grains = num_grains + len(contours)\n",
    "\n",
    "        \n",
    "        \n",
    "        \n",
    "          \n",
    "    "
   ]
  },
  {
   "cell_type": "code",
   "execution_count": 62,
   "id": "naked-sitting",
   "metadata": {},
   "outputs": [
    {
     "name": "stdout",
     "output_type": "stream",
     "text": [
      "24740\n",
      "24740\n"
     ]
    }
   ],
   "source": [
    "#check that len areas is equal to num_grains\n",
    "\n",
    "print(len(areas))\n",
    "print(num_grains)"
   ]
  },
  {
   "cell_type": "code",
   "execution_count": 63,
   "id": "apparent-visit",
   "metadata": {},
   "outputs": [
    {
     "name": "stdout",
     "output_type": "stream",
     "text": [
      "248.4505843488328\n",
      "1033.7356866256985\n"
     ]
    }
   ],
   "source": [
    "# the conversion is the pixel to micron ratio\n",
    "# for this work it is defined \n",
    "#other zoom and picture setting need to define it\n",
    "\n",
    "conversion = 1/(2.25*2.25)\n",
    "\n",
    "\n",
    "avg_grain_area = np.mean(areas)\n",
    "avg_grain_area = avg_grain_area*conversion\n",
    "print(avg_grain_area)\n",
    "avg_grain_std = np.std(areas)\n",
    "avg_grain_std = avg_grain_std*conversion\n",
    "print(avg_grain_std)"
   ]
  },
  {
   "cell_type": "code",
   "execution_count": 64,
   "id": "front-johns",
   "metadata": {},
   "outputs": [
    {
     "name": "stdout",
     "output_type": "stream",
     "text": [
      "31117504.0\n",
      "76800000\n",
      "0.40517583333333335\n"
     ]
    }
   ],
   "source": [
    "#area ratio grain to grain boundar\n",
    "\n",
    "Total_grain_area = np.sum(areas)\n",
    "print(Total_grain_area)\n",
    "total_area_images = 40*1600*1200\n",
    "print(total_area_images)\n",
    "Total_grain_area_percent = Total_grain_area/total_area_images\n",
    "print(Total_grain_area_percent)"
   ]
  },
  {
   "cell_type": "code",
   "execution_count": null,
   "id": "raising-statistics",
   "metadata": {},
   "outputs": [],
   "source": []
  }
 ],
 "metadata": {
  "kernelspec": {
   "display_name": "Python 3",
   "language": "python",
   "name": "python3"
  },
  "language_info": {
   "codemirror_mode": {
    "name": "ipython",
    "version": 3
   },
   "file_extension": ".py",
   "mimetype": "text/x-python",
   "name": "python",
   "nbconvert_exporter": "python",
   "pygments_lexer": "ipython3",
   "version": "3.8.3"
  }
 },
 "nbformat": 4,
 "nbformat_minor": 5
}
